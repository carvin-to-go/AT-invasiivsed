{
 "cells": [
  {
   "cell_type": "markdown",
   "id": "7f8bb9c8",
   "metadata": {},
   "source": [
    "# Project B4: Effects of invasive species on native biodivesity"
   ]
  },
  {
   "cell_type": "markdown",
   "id": "b6df7e26",
   "metadata": {},
   "source": [
    "## Intro"
   ]
  },
  {
   "cell_type": "markdown",
   "id": "e1d186fb",
   "metadata": {},
   "source": [
    "Authors: Reelika Pärnpuu, Marta Miia Pärnpuu\n",
    "\n",
    "\n",
    "Goals: \n",
    "1. The general goal is to prevent the spread of invasive species, mostly by analysing\n",
    "and implementing new invasive species control methods. We will be working on data from\n",
    "before the control methods have been implemented, but the project will go on to analyse the\n",
    "same areas after implementation. \n",
    "2. A narrower goal would be to find ways for the plant to utilise Python in biology-related data mining, since biology work groups (at least in Tartu University) usually use R instead. To test how well Python can be utilized for biology-related data, we set the goal to look for general correlations in datasets provided for us.\n",
    "\n",
    "Contents' guide:\n",
    "1. Imports and cleanup\n",
    "2. Getting familiar with the data, basic correlation graphs\n",
    "3. Non-metric MultiDimensional Scaling\n",
    "4. Biotic Novelty Index\n",
    "5. Illustrative map\n",
    "\n",
    "Explain how it is possible to take the code and replicate the sama analysis that the authors have done?"
   ]
  },
  {
   "cell_type": "markdown",
   "id": "efdd363a",
   "metadata": {},
   "source": [
    "## how to replicate.."
   ]
  },
  {
   "cell_type": "markdown",
   "id": "7eb07249",
   "metadata": {},
   "source": [
    "## 1. Imports and cleanup"
   ]
  },
  {
   "cell_type": "code",
   "execution_count": 1,
   "id": "09e67c45",
   "metadata": {},
   "outputs": [],
   "source": [
    "import pandas as pd\n",
    "import matplotlib.pyplot as plt\n",
    "from sklearn.metrics import pairwise_distances\n",
    "from sklearn import manifold\n",
    "import numpy as np\n",
    "import seaborn as sns\n",
    "import plotnine as p9"
   ]
  },
  {
   "cell_type": "code",
   "execution_count": 2,
   "id": "31639af8",
   "metadata": {},
   "outputs": [],
   "source": [
    "#excel file 1\n",
    "EEB_samples = pd.ExcelFile('EEB_samples.xlsx') #file\n",
    "sample = EEB_samples.parse('full_table') #sheet name\n",
    "\n",
    "#excel file 2\n",
    "EEB_soil_chemistry = pd.ExcelFile('EEB_soil_chemistry.xlsx')\n",
    "soil = EEB_soil_chemistry.parse('Sheet1')\n",
    "soil=soil.iloc[1:] #dropped a row that specified unit of measurement\n",
    "soil= soil.reset_index(drop=True)\n",
    "soil_df=soil[['ala_kood','pHKCl']]\n",
    "\n",
    "#excel file 3\n",
    "plant_survey = pd.ExcelFile('Plant_survey_2023_final.xlsx') \n",
    "plant = plant_survey.parse('Sheet1')"
   ]
  },
  {
   "cell_type": "code",
   "execution_count": 3,
   "id": "86e46d76",
   "metadata": {},
   "outputs": [],
   "source": [
    "#since each sample had three repeats, we'll use the average of each triple; \n",
    "#following code finds the averages and renames them:\n",
    "for i in range (1,14):\n",
    "    for j in range(1,10):\n",
    "        plant[plant['sample']=='EEB-RJ{}-{}'.format(i, j)]\n",
    "        if j in range(1, 4):\n",
    "            plant.loc[plant['sample'] == 'EEB-RJ{}-{}'.format(i, j), 'sample'] = 'INV-{}-R'.format(i)\n",
    "        if j in range(4, 7): \n",
    "            plant.loc[plant['sample'] == 'EEB-RJ{}-{}'.format(i, j), 'sample'] = 'TRANS-{}-R'.format(i)\n",
    "        if j in range(7, 10): \n",
    "            plant.loc[plant['sample'] == 'EEB-RJ{}-{}'.format(i, j), 'sample'] = 'NAT-{}-R'.format(i)\n",
    "            \n",
    "            \n",
    "for i in range (1,12):\n",
    "    for j in range(1,10):\n",
    "        plant[plant['sample']=='EEB-SC{}-{}'.format(i, j)]\n",
    "        if j in range(1, 4):\n",
    "            plant.loc[plant['sample'] == 'EEB-SC{}-{}'.format(i, j), 'sample'] = 'INV-{}-S'.format(i)\n",
    "        if j in range(4, 7): \n",
    "            plant.loc[plant['sample'] == 'EEB-SC{}-{}'.format(i, j), 'sample'] = 'TRANS-{}-S'.format(i)\n",
    "        if j in range(7, 10): \n",
    "            plant.loc[plant['sample'] == 'EEB-SC{}-{}'.format(i, j), 'sample'] = 'NAT-{}-S'.format(i)\n",
    "            \n",
    "            \n",
    "mean_df = plant.groupby('sample').mean()\n",
    "#taimed=mean_df.copy()"
   ]
  },
  {
   "cell_type": "code",
   "execution_count": 4,
   "id": "acb2358f",
   "metadata": {},
   "outputs": [],
   "source": [
    "#we'll create a coordinates' dataframe that only has the values we need\n",
    "coord_df=sample[['new_code','lat', 'lon']]\n",
    "\n",
    "#we'll also rename the codes used in the coordinate dataframe, \n",
    "#since that dataframe also uses the same codes as the plant dataframe previously did\n",
    "for i in range (1,14):\n",
    "    for j in range(1,10):\n",
    "        coord_df[coord_df['new_code']=='EEB-RJ{}-{}'.format(i, j)]\n",
    "        if j in range(1, 4):\n",
    "            coord_df.loc[coord_df['new_code'] == 'EEB-RJ{}-{}'.format(i, j), 'new_code'] = 'INV-{}-R'.format(i)\n",
    "        if j in range(4, 7): \n",
    "            coord_df.loc[coord_df['new_code'] == 'EEB-RJ{}-{}'.format(i, j), 'new_code'] = 'TRANS-{}-R'.format(i)\n",
    "        if j in range(7, 10): \n",
    "            coord_df.loc[coord_df['new_code'] == 'EEB-RJ{}-{}'.format(i, j), 'new_code'] = 'NAT-{}-R'.format(i)\n",
    "            \n",
    "            \n",
    "for i in range (1,12):\n",
    "    for j in range(1,10):\n",
    "        coord_df[coord_df['new_code']=='EEB-SC{}-{}'.format(i, j)]\n",
    "        if j in range(1, 4):\n",
    "            coord_df.loc[coord_df['new_code'] == 'EEB-SC{}-{}'.format(i, j), 'new_code'] = 'INV-{}-S'.format(i)\n",
    "        if j in range(4, 7): \n",
    "            coord_df.loc[coord_df['new_code'] == 'EEB-SC{}-{}'.format(i, j), 'new_code'] = 'TRANS-{}-S'.format(i)\n",
    "        if j in range(7, 10): \n",
    "            coord_df.loc[coord_df['new_code'] == 'EEB-SC{}-{}'.format(i, j), 'new_code'] = 'NAT-{}-S'.format(i)\n",
    "\n",
    "coord_new=coord_df.groupby('new_code').mean()"
   ]
  },
  {
   "cell_type": "code",
   "execution_count": 5,
   "id": "7c7b9b8e",
   "metadata": {},
   "outputs": [],
   "source": [
    "full_plant_cover=mean_df.T.sum()\n",
    "#we'll view the native and invasive species separetly in most cases\n",
    "#the two invasive sp in this dataset are Reynoutria japonica (aka Japanese knotweed) and Solidago_canadensis (aka Canadian goldenrod)\n",
    "invasive_sp=mean_df[['Reynoutria_japonica', 'Solidago_canadensis']]\n",
    "native_sp=mean_df.drop(['Reynoutria_japonica', 'Solidago_canadensis'],axis=1)\n",
    "\n",
    "\n",
    "native_cover=native_sp.T.sum()\n",
    "invasive_cover=invasive_sp.T.sum()\n"
   ]
  },
  {
   "cell_type": "code",
   "execution_count": 6,
   "id": "27f27dff",
   "metadata": {},
   "outputs": [],
   "source": [
    "mean_df['liigirikkus'] = mean_df.apply(lambda row: (row != 0).sum(), axis=1)\n",
    "for index, row in mean_df.iterrows():\n",
    "    for i in range(1,14):\n",
    "        if '{}-R'.format(i) in index:\n",
    "            mean_df.loc[index, 'pH']=soil_df[soil_df['ala_kood']=='EEB-RJ{}'.format(i)].pHKCl.values[0]\n",
    "        if '{}-S'.format(i) in index:\n",
    "            mean_df.loc[index, 'pH']=soil_df[soil_df['ala_kood']=='EEB-SC{}'.format(i)].pHKCl.values[0]\n",
    "            \n",
    "for index, row in mean_df.iterrows():\n",
    "    if 'INV-' in index:\n",
    "        mean_df.loc[index, 'invadeeritus']=1\n",
    "    if 'TRANS-' in index:\n",
    "        mean_df.loc[index, 'invadeeritus']=2\n",
    "    if 'NAT-' in index:\n",
    "        mean_df.loc[index, 'invadeeritus']=3"
   ]
  },
  {
   "cell_type": "code",
   "execution_count": 7,
   "id": "8c3e4eda",
   "metadata": {},
   "outputs": [],
   "source": [
    "combined_df=pd.concat([mean_df,coord_new], axis=1)\n",
    "soil.rename(columns={'P-AL': 'P_AL', 'K-AL': 'K_AL', 'Ca-AL': 'Ca_AL', 'Mg-AL': 'Mg_AL', 'N -Kjeldahl': 'N_Kjel', 'C-Tjurin': 'C_Tjur'}, inplace=True)\n",
    "\n",
    "for index, row in combined_df.iterrows():\n",
    "    for i in range(1,14):\n",
    "        if '{}-R'.format(i) in index:\n",
    "            combined_df.loc[index, 'P_AL']=soil[soil['ala_kood']=='EEB-RJ{}'.format(i)].P_AL.values[0]\n",
    "            combined_df.loc[index, 'K_AL']=soil[soil['ala_kood']=='EEB-RJ{}'.format(i)].K_AL.values[0]\n",
    "            combined_df.loc[index, 'Ca_AL']=soil[soil['ala_kood']=='EEB-RJ{}'.format(i)].Ca_AL.values[0]\n",
    "            combined_df.loc[index, 'Mg_AL']=soil[soil['ala_kood']=='EEB-RJ{}'.format(i)].Mg_AL.values[0]\n",
    "            combined_df.loc[index, 'N_Kjel']=soil[soil['ala_kood']=='EEB-RJ{}'.format(i)].N_Kjel.values[0]\n",
    "            combined_df.loc[index, 'C_Tjur']=soil[soil['ala_kood']=='EEB-RJ{}'.format(i)].C_Tjur.values[0]\n",
    "        if '{}-S'.format(i) in index:\n",
    "            combined_df.loc[index, 'P_AL']=soil[soil['ala_kood']=='EEB-SC{}'.format(i)].P_AL.values[0]\n",
    "            combined_df.loc[index, 'K_AL']=soil[soil['ala_kood']=='EEB-SC{}'.format(i)].K_AL.values[0]\n",
    "            combined_df.loc[index, 'Ca_AL']=soil[soil['ala_kood']=='EEB-SC{}'.format(i)].Ca_AL.values[0]\n",
    "            combined_df.loc[index, 'Mg_AL']=soil[soil['ala_kood']=='EEB-SC{}'.format(i)].Mg_AL.values[0]\n",
    "            combined_df.loc[index, 'N_Kjel']=soil[soil['ala_kood']=='EEB-SC{}'.format(i)].N_Kjel.values[0]\n",
    "            combined_df.loc[index, 'C_Tjur']=soil[soil['ala_kood']=='EEB-SC{}'.format(i)].C_Tjur.values[0]\n",
    "            \n",
    "            \n",
    "combined_df[['invadeeritus','lat','lon']]\n",
    "species_cols = [col for col in combined_df.columns if col not in ['liigirikkus',\n",
    " 'pH',\n",
    " 'invadeeritus',\n",
    " 'lat',\n",
    " 'lon',\n",
    " 'P_AL',\n",
    " 'K_AL',\n",
    " 'Ca_AL',\n",
    " 'Mg_AL',\n",
    " 'N_Kjel',\n",
    " 'C_Tjur']]\n",
    "\n",
    "mean_coverage_by_area = combined_df.groupby('invadeeritus')[species_cols].mean()\n"
   ]
  },
  {
   "cell_type": "code",
   "execution_count": 8,
   "id": "3659bd42",
   "metadata": {},
   "outputs": [],
   "source": [
    "tulbad=['liigirikkus', 'pH', 'invadeeritus', 'lat', 'lon', 'P_AL', 'K_AL', 'Ca_AL', 'Mg_AL',\n",
    "       'N_Kjel', 'C_Tjur']\n",
    "väiksem_asi=combined_df[tulbad]"
   ]
  },
  {
   "cell_type": "markdown",
   "id": "8493f29b",
   "metadata": {},
   "source": [
    "## 2. Basic correlation graphs, getting familiar with the data"
   ]
  },
  {
   "cell_type": "code",
   "execution_count": 9,
   "id": "cd0be5c3",
   "metadata": {},
   "outputs": [
    {
     "data": {
      "image/png": "[encoded data removed]",
      "text/plain": [
       "<Figure size 640x480 with 1 Axes>"
      ]
     },
     "metadata": {},
     "output_type": "display_data"
    }
   ],
   "source": [
    "plt.plot(full_plant_cover,full_plant_cover/invasive_cover, marker='o', linestyle='', markersize=7, color='royalblue')\n",
    "plt.xlabel('Full plant cover')\n",
    "plt.ylabel('Full plant cover/invasive cover')\n",
    "plt.title('Plant cover of invasive sp in comparison to native sp')\n",
    "plt.show()"
   ]
  },
  {
   "cell_type": "code",
   "execution_count": null,
   "id": "1b187e29",
   "metadata": {
    "scrolled": false
   },
   "outputs": [],
   "source": [
    "plt.plot(invasive_cover,native_cover, marker='o', linestyle='', markersize=7, color='mediumvioletred')\n",
    "plt.xlabel('Invasive species plant cover')\n",
    "plt.ylabel('Native species plant cover')\n",
    "plt.title('Invasive plant cover vs Native plant cover')\n",
    "plt.show()"
   ]
  },
  {
   "cell_type": "code",
   "execution_count": null,
   "id": "823a14e0",
   "metadata": {},
   "outputs": [],
   "source": [
    "(p9.ggplot(\n",
    "    data = mean_df, \n",
    "    mapping = p9.aes(x = 'Reynoutria_japonica', y = 'pH')\n",
    ") + \n",
    "    p9.geom_violin(fill='teal',alpha=0.5))\n"
   ]
  },
  {
   "cell_type": "code",
   "execution_count": null,
   "id": "95424803",
   "metadata": {},
   "outputs": [],
   "source": [
    "(p9.ggplot(\n",
    "    data = mean_df, \n",
    "    mapping = p9.aes(x = 'Solidago_canadensis', y = 'pH')\n",
    ") + \n",
    "    p9.geom_violin(fill='teal',alpha=0.5))\n"
   ]
  },
  {
   "cell_type": "code",
   "execution_count": null,
   "id": "acdb3e83",
   "metadata": {},
   "outputs": [],
   "source": [
    "(p9.ggplot(\n",
    "    data = mean_df, \n",
    "    mapping = p9.aes(y = 'liigirikkus', x = 'pH')\n",
    ") + \n",
    "    p9.geom_violin(fill='teal',alpha=0.5))\n"
   ]
  },
  {
   "cell_type": "code",
   "execution_count": null,
   "id": "d59d61ee",
   "metadata": {},
   "outputs": [],
   "source": [
    "import seaborn as sns\n",
    "plt.figure(figsize=(10,6))\n",
    "inv_vs_rich=sns.violinplot(x='invadeeritus', y='liigirikkus', data=väiksem_asi)\n",
    "#plt.plot(1,inv.liigirikkus.mean(),'k+',label='inv keskmine')\n",
    "#plt.plot(2,trans.liigirikkus.mean(),'m+',label='trans keskmine')\n",
    "#plt.plot(3,nat.liigirikkus.mean(),'g+',label='nat keskmine')\n",
    "plt.title('Effect of invadedness on species richness')\n",
    "plt.ylabel('Species richness')\n",
    "plt.xlabel('Level of invadedness')\n",
    "plt.xticks(np.arange(3),[\"Natural\",\"Transitional\",\"Invaded\"])\n",
    "#plt.legend()\n",
    "plt.show()\n",
    "\n",
    "\n",
    "fig =inv_vs_rich.get_figure()\n",
    "#fig.savefig('inv_vs_rich.png',dpi=300)  \n"
   ]
  },
  {
   "cell_type": "markdown",
   "id": "7d099c49",
   "metadata": {},
   "source": [
    "## 3. Non-metric MultiDimensional Scaling"
   ]
  },
  {
   "cell_type": "code",
   "execution_count": null,
   "id": "7a3baf7f",
   "metadata": {},
   "outputs": [],
   "source": [
    "# In order to apply NDMS, we'll need to convert the data matrix (n sample units × p species) into an n x n distance matrix\n",
    "distances = pairwise_distances(mean_df.values)\n",
    "\n",
    "# Also converting the distance matrix into a DataFrame for better visualization\n",
    "distances_df = pd.DataFrame(distances, index=mean_df.index, columns=mean_df.index)"
   ]
  },
  {
   "cell_type": "code",
   "execution_count": null,
   "id": "b8d6d9c7",
   "metadata": {},
   "outputs": [],
   "source": [
    "combined_df_copy=combined_df.copy()\n",
    "\n",
    "combined_df_copy.loc[:, 'invasive_cover'] =invasive_cover.values\n",
    "combined_df_copy.loc[:, 'native_cover'] = native_cover.values\n",
    "combined_df_copy.loc[:, 'full_plant_cover'] = full_plant_cover.values\n",
    "\n",
    "combined_df_dist = pd.DataFrame(pairwise_distances(combined_df_copy.values), index=combined_df_copy.index, columns=combined_df_copy.index)"
   ]
  },
  {
   "cell_type": "code",
   "execution_count": null,
   "id": "258632ac",
   "metadata": {},
   "outputs": [],
   "source": [
    "plt.figure(figsize=(10,6))\n",
    "#plt.figure(dpi=110)\n",
    "mds = manifold.MDS(n_components=2, dissimilarity='precomputed',normalized_stress='auto')\n",
    "emb = mds.fit_transform(combined_df_dist)\n",
    "värv=combined_df_copy.Mg_AL.values\n",
    "\n",
    "plt.scatter(emb[:, 0], emb[:, 1],c=värv, cmap='RdYlGn',s=75,alpha=0.8)\n",
    "plt.xlabel('NMDS 1')\n",
    "plt.ylabel('NMDS 2')\n",
    "plt.title('Properties of sample areas colored by Mg alloy value')\n",
    "plt.colorbar(label='Mg alloys (mg/kg)')\n",
    "plt.show()"
   ]
  },
  {
   "cell_type": "code",
   "execution_count": null,
   "id": "b2ba15f6",
   "metadata": {
    "scrolled": true
   },
   "outputs": [],
   "source": [
    "plt.figure(figsize=(10,6))\n",
    "#plt.figure(dpi=110)\n",
    "mds = manifold.MDS(n_components=2, dissimilarity='precomputed',normalized_stress='auto')\n",
    "emb = mds.fit_transform(combined_df_dist)\n",
    "värv=combined_df_copy.Ca_AL.values\n",
    "\n",
    "plt.scatter(emb[:, 0], emb[:, 1],c=värv, cmap='RdYlGn',s=75,alpha=0.8)\n",
    "plt.xlabel('NMDS 1')\n",
    "plt.ylabel('NMDS 2')\n",
    "plt.title('Properties of sample areas colored by Ca alloy value')\n",
    "plt.colorbar(label='Ca alloys (mg/kg)')\n",
    "#plt.savefig('Ca_AL_väärtused.png',dpi=300,bbox_inches='tight')\n",
    "plt.show()\n"
   ]
  },
  {
   "cell_type": "code",
   "execution_count": null,
   "id": "14c5373a",
   "metadata": {},
   "outputs": [],
   "source": [
    "from sklearn import manifold\n",
    "mds = manifold.MDS(n_components=2, dissimilarity='precomputed',normalized_stress=\"auto\")\n",
    "embedding = mds.fit_transform(distances_df)\n",
    "pH=combined_df.liigirikkus.values\n",
    "\n",
    "plt.scatter(embedding[:, 0], embedding[:, 1],c=pH, cmap='viridis')\n",
    "plt.xlabel('NMDS 1')\n",
    "plt.ylabel('NMDS 2')\n",
    "plt.colorbar(label='values')\n",
    "plt.show()"
   ]
  },
  {
   "cell_type": "markdown",
   "id": "4afe2a9d",
   "metadata": {},
   "source": [
    "- 1= INV\n",
    "- 2=TRANS\n",
    "- 3=NAT"
   ]
  },
  {
   "cell_type": "markdown",
   "id": "48f3968e",
   "metadata": {},
   "source": [
    "## 4. Calculating BNI"
   ]
  },
  {
   "cell_type": "code",
   "execution_count": null,
   "id": "bb05d45d",
   "metadata": {},
   "outputs": [],
   "source": [
    "from scipy.spatial import distance\n",
    "plants_only=mean_df.drop(labels=[\"liigirikkus\",\"pH\",\"invadeeritus\"], axis=1)\n",
    "\n",
    "maatriks= pd.ExcelFile('YSI_matrix.xlsx')\n",
    "YSI= maatriks.parse('Sheet4')\n",
    "\n",
    "YSI['invasiivsus'] = YSI['invasiivsus'].apply(lambda x: 0 if x == 1 else 1)\n",
    "com=plants_only\n"
   ]
  },
  {
   "cell_type": "code",
   "execution_count": null,
   "id": "d1a19027",
   "metadata": {},
   "outputs": [],
   "source": [
    "com=plants_only.values\n",
    "#com=np.array(com)\n",
    "pl=plants_only.T\n",
    "\n",
    "distance = pairwise_distances(pl.values)\n",
    "rpi = pd.DataFrame(YSI) #/ np.max(YSI, axis=0)\n",
    "\n",
    "distances_mat = pd.DataFrame(distance)\n",
    "t_dist=np.reshape(distances_mat.values,(1,-1))\n",
    "r = YSI['invasiivsus'].values\n",
    "n = len(r)\n",
    "c_ij = np.zeros((n, n))\n",
    "\n",
    "for i in range(n):\n",
    "    for j in range(n):\n",
    "        #if i != j:\n",
    "        c_ij[i, j] = 1 - min(r[i], r[j])\n",
    "\n",
    "df_c_ij = pd.DataFrame(c_ij)\n",
    "dxc = distances_mat *c_ij\n",
    "BNI = np.apply_along_axis(lambda x: np.dot(x, np.dot(dxc, x)), axis=1, arr=com)/2 \n",
    "\n",
    "BNI_norm=BNI/BNI.max() #normeerin\n",
    "plt.plot(BNI_norm, mean_df['liigirikkus'],'co')\n",
    "plt.show()"
   ]
  },
  {
   "cell_type": "markdown",
   "id": "c704a151",
   "metadata": {},
   "source": [
    "## 5. Map illustrating sampling areas"
   ]
  },
  {
   "cell_type": "code",
   "execution_count": null,
   "id": "867bd71a",
   "metadata": {
    "scrolled": false
   },
   "outputs": [],
   "source": [
    "import folium\n",
    "\n",
    "# Create a map centered at an initial location\n",
    "initial_latitude=58.595272\n",
    "initial_longitude=25.013607\n",
    "map = folium.Map(location=[initial_latitude, initial_longitude], zoom_start=7)\n",
    "\n",
    "# Add points to the map\n",
    "for index, row in coord_new.iterrows():\n",
    "    folium.CircleMarker([row['lat'], row['lon']], color=\"darkblue\",\n",
    "        radius=10,\n",
    "        fill=True,\n",
    "        fill_color=\"cadetblue\",\n",
    "        fill_opacity=0.6,\n",
    "        ).add_to(map)\n",
    "# Display the map\n",
    "map\n",
    "#map.save('map.html')"
   ]
  }
 ],
 "metadata": {
  "kernelspec": {
   "display_name": "Python 3 (ipykernel)",
   "language": "python",
   "name": "python3"
  },
  "language_info": {
   "codemirror_mode": {
    "name": "ipython",
    "version": 3
   },
   "file_extension": ".py",
   "mimetype": "text/x-python",
   "name": "python",
   "nbconvert_exporter": "python",
   "pygments_lexer": "ipython3",
   "version": "3.11.4"
  }
 },
 "nbformat": 4,
 "nbformat_minor": 5
}
